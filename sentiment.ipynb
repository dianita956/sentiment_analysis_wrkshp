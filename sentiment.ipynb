{
 "cells": [
  {
   "cell_type": "markdown",
   "metadata": {},
   "source": [
    "Sentiment Analysis \n",
    "==================\n",
    "presented by: [Diane López] (https://github.com/dianita956) \n",
    "April 2, 2025\n",
    "CEDISH - University of Texas at San Antonio Libraries"
   ]
  },
  {
   "cell_type": "markdown",
   "metadata": {},
   "source": [
    "### Sentiment Analysis for Academic Research\n",
    "Sentiment analysis is also widely used in academic research to analyze large volumes of text data, \n",
    "such as student feedback, academic publications, and social media interactions related to educational topics. \n",
    "It helps in understanding trends, opinions, and the overall sentiment in the academic community."
   ]
  },
  {
   "cell_type": "markdown",
   "metadata": {},
   "source": [
    "### agenda:\n",
    "1. Introduction to Sentiment Analysis\n",
    "2. Sentiment Analysis Techniques\n",
    "4. Sentiment Analysis Tools\n",
    "5. Sentiment Analysis in Python\n",
    "6. Conclusion"
   ]
  },
  {
   "cell_type": "markdown",
   "metadata": {},
   "source": [
    "## Introduction to Sentiment Analysis"
   ]
  },
  {
   "cell_type": "markdown",
   "metadata": {},
   "source": [
    "### Techniques\n",
    "\n",
    "* **Lexicon-based: Uses predefined word lists associated with sentiments.**\n",
    "\n",
    "* Machine Learning: Models trained on labeled data (e.g., Naive Bayes, SVM).\n",
    "\n",
    "* Deep Learning: Uses advanced neural networks like RNNs and CNNs for complex sentiment patterns.\n",
    "\n",
    "* Hybrid: Combines lexicon-based and ML approaches for better accuracy."
   ]
  },
  {
   "cell_type": "markdown",
   "metadata": {},
   "source": [
    "### Tools\n",
    "1. NLTK: Advanced library with various sentiment analysis tools.\n",
    "    - Matplotlib or Plotly: For visualization of sentiment scores.\n",
    "2. Spacy: Advanced NLP library with sentiment analysis capabilities.\n",
    "\n",
    "    - displaCy: For visualizing dependency trees and named entities. \n"
   ]
  },
  {
   "cell_type": "markdown",
   "metadata": {},
   "source": [
    "### Documentation for which tool can be found at: \n",
    "* NLTK: https://www.nltk.org/install.html\n",
    "* Spacy: https://spacy.io/usage"
   ]
  },
  {
   "cell_type": "markdown",
   "metadata": {},
   "source": [
    "## Sentiment Analysis in Python"
   ]
  },
  {
   "cell_type": "code",
   "execution_count": null,
   "metadata": {},
   "outputs": [
    {
     "ename": "ModuleNotFoundError",
     "evalue": "No module named 'spacy'",
     "output_type": "error",
     "traceback": [
      "\u001b[31m---------------------------------------------------------------------------\u001b[39m",
      "\u001b[31mModuleNotFoundError\u001b[39m                       Traceback (most recent call last)",
      "\u001b[36mCell\u001b[39m\u001b[36m \u001b[39m\u001b[32mIn[3]\u001b[39m\u001b[32m, line 2\u001b[39m\n\u001b[32m      1\u001b[39m \u001b[38;5;28;01mimport\u001b[39;00m\u001b[38;5;250m \u001b[39m\u001b[34;01mnltk\u001b[39;00m\n\u001b[32m----> \u001b[39m\u001b[32m2\u001b[39m \u001b[38;5;28;01mimport\u001b[39;00m\u001b[38;5;250m \u001b[39m\u001b[34;01mspacy\u001b[39;00m\n",
      "\u001b[31mModuleNotFoundError\u001b[39m: No module named 'spacy'"
     ]
    }
   ],
   "source": [
    "import nltk\n",
    "import spacy\n"
   ]
  },
  {
   "cell_type": "code",
   "execution_count": null,
   "metadata": {},
   "outputs": [],
   "source": []
  }
 ],
 "metadata": {
  "kernelspec": {
   "display_name": ".senti",
   "language": "python",
   "name": "python3"
  },
  "language_info": {
   "codemirror_mode": {
    "name": "ipython",
    "version": 3
   },
   "file_extension": ".py",
   "mimetype": "text/x-python",
   "name": "python",
   "nbconvert_exporter": "python",
   "pygments_lexer": "ipython3",
   "version": "3.13.2"
  }
 },
 "nbformat": 4,
 "nbformat_minor": 2
}
