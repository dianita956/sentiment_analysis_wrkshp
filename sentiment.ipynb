{
 "cells": [
  {
   "cell_type": "markdown",
   "metadata": {},
   "source": [
    "Sentiment Analysis \n",
    "==================\n",
    "presented by: [Diane López] (https://github.com/dianita956) \n",
    "April 2, 2025\n",
    "CEDISH - University of Texas at San Antonio Libraries"
   ]
  },
  {
   "cell_type": "markdown",
   "metadata": {},
   "source": [
    "### Sentiment Analysis for Academic Research\n",
    "Sentiment analysis is also widely used in academic research to analyze large volumes of text data, \n",
    "such as student feedback, academic publications, and social media interactions related to educational topics. \n",
    "It helps in understanding trends, opinions, and the overall sentiment in the academic community."
   ]
  },
  {
   "cell_type": "markdown",
   "metadata": {},
   "source": [
    "## Workshop Agenda\n",
    "1. 10 min check-in- How are you doing?\n",
    "2. 20-30 min set-up- launching your IDE: Anaconda, Jupyter Notebook, or Google Colab or preferred IDE. \n",
    "3. 5-10 min- Introduction to Sentiment Analysis\n",
    "4. 5 min break/check in\n",
    "4. 30 min- Hands-on exercise: Analyzing Sentiment in Text Data\n",
    "5. 5-10 min- Wrap-up and Q&A"
   ]
  },
  {
   "cell_type": "markdown",
   "metadata": {},
   "source": [
    "### table of contents:\n",
    "Introduction to Sentiment Analysis\n",
    "- Sentiment Analysis Techniques\n",
    "- Sentiment Analysis Tools\n",
    "\n",
    "Sentiment Analysis in Python\n",
    "\n",
    "Conclusion"
   ]
  },
  {
   "cell_type": "markdown",
   "metadata": {},
   "source": [
    "## Introduction to Sentiment Analysis"
   ]
  },
  {
   "cell_type": "markdown",
   "metadata": {},
   "source": [
    "### Techniques\n",
    "\n",
    "* **Lexicon-based: Uses predefined word lists associated with sentiments.**\n",
    "\n",
    "* Machine Learning: Models trained on labeled data (e.g., Naive Bayes, SVM).\n",
    "\n",
    "* Deep Learning: Uses advanced neural networks like RNNs and CNNs for complex sentiment patterns.\n",
    "\n",
    "* Hybrid: Combines lexicon-based and ML approaches for better accuracy."
   ]
  },
  {
   "cell_type": "markdown",
   "metadata": {},
   "source": [
    "### Tools\n",
    "1. NLTK: Advanced library with various sentiment analysis tools.\n",
    "    - Matplotlib or Plotly: For visualization of sentiment scores.\n",
    "2. Spacy: Advanced NLP library with sentiment analysis capabilities.\n",
    "\n",
    "    - displaCy: For visualizing dependency trees and named entities. \n"
   ]
  },
  {
   "cell_type": "markdown",
   "metadata": {},
   "source": [
    "### Documentation for which tool can be found at: \n",
    "* NLTK: https://www.nltk.org/install.html\n",
    "* Spacy: https://spacy.io/usage"
   ]
  },
  {
   "cell_type": "markdown",
   "metadata": {},
   "source": [
    "## Sentiment Analysis in Python"
   ]
  },
  {
   "cell_type": "markdown",
   "metadata": {},
   "source": [
    "First thing first, we need to install the libraries we will be using. Today will be using nltk, spacy, and matplotlib. "
   ]
  },
  {
   "cell_type": "code",
   "execution_count": 1,
   "metadata": {},
   "outputs": [],
   "source": [
    "import nltk\n",
    "import matplotlib.pyplot as plt # plt is the shortname for matplotlib this makes it easier to call in the code \n",
    "import re\n"
   ]
  },
  {
   "cell_type": "markdown",
   "metadata": {},
   "source": [
    "## Creating your own sentiment calculator"
   ]
  },
  {
   "cell_type": "code",
   "execution_count": 5,
   "metadata": {},
   "outputs": [
    {
     "name": "stdout",
     "output_type": "stream",
     "text": [
      "amor:1\n",
      "foto:0\n",
      "bueno:1\n",
      "hermoso:1\n",
      "odio:-1\n",
      "satisfacción:1\n",
      "increíble:1\n",
      "éxito:1\n",
      "Sentiment Score: 5\n"
     ]
    }
   ],
   "source": [
    "#building a simple Spanish Lexicon (dictionary) \n",
    "#postive words score greater > than 0\n",
    "#negative words score less < than 0\n",
    "#neutral words score equal = to 0\n",
    "\n",
    "\n",
    "positive_words = [\n",
    "    'bueno', 'mágico', 'paz', 'amistad', 'deseo', 'feliz', 'alegría', 'amor', \n",
    "    'hermoso', 'éxito', 'satisfacción', 'genial', 'increíble', 'niña', 'pueblo', \n",
    "    'bosque', 'criaturas', 'hada', 'regreso', 'naturaleza'\n",
    "]\n",
    "negative_words = ['triste', 'odio', 'miedo', 'fracaso', 'desastre', 'decepción', 'perderse', 'desaparecer', 'nerviosa' ]\n",
    "neutral_words = ['normal', 'regular', 'común', 'promedio', 'típico', 'estándar'  'niña', 'pueblo', 'bosque', 'criaturas', 'hada', 'regreso', 'naturaleza', 'foto']\n",
    "\n",
    "#creating a dictionary with the words and their scores\n",
    "lexicon = {}\n",
    "for word in positive_words: # the colon indicates that the next block of code should be repeated a number of times. iterate thru the list\n",
    "    lexicon[word] = 1\n",
    "for word in negative_words:\n",
    "    lexicon[word] = -1\n",
    "for word in neutral_words:\n",
    "    lexicon[word] = 0 \n",
    "\n",
    "#checking lexicon dictionary and word score\n",
    "#print(lexicon)\n",
    "\n",
    "#creating a function to calculate the sentiment score of a text \n",
    "def calculate_sentiment(text):\n",
    "    #tokenizing the text using regex and lowercasing and find words\n",
    "    tokens = re.findall(r'\\b\\w+\\b', text.lower())\n",
    "    #store works and scores in a dictionary\n",
    "    word_scores = {}\n",
    "    total_score = 0 \n",
    "\n",
    "    for word in set(tokens): # set() is a Python built-in function used to create a set object. A set is unorder and part of data types: list, tuples,, and dictionary. it help to remoive dups. \n",
    "        if word in lexicon:\n",
    "            word_scores[word] = lexicon[word] #creating a list to store words and its score\n",
    "            total_score = total_score + lexicon[word]\n",
    "            #print(total_score)\n",
    "    \n",
    "    for word, score in word_scores.items():\n",
    "        print(f\"{word}:{score}\")\n",
    "\n",
    "    #calculate sentiment score: 1 = positive, -1 = negative, 0 = neutral\n",
    "    return total_score, word_scores\n",
    "\n",
    "#example text\n",
    "with open('SylviaGonzalez_CasaLatina.txt', 'r', encoding='utf-8') as f:\n",
    "    text = f.read()\n",
    "\n",
    "#calcuating sentiment score\n",
    "sentiment_score, word_scores = calculate_sentiment(text)\n",
    "print(f\"Sentiment Score: {sentiment_score}\")"
   ]
  },
  {
   "cell_type": "code",
   "execution_count": 6,
   "metadata": {},
   "outputs": [
    {
     "data": {
      "image/png": "[encoded data removed]",
      "text/plain": [
       "<Figure size 600x400 with 1 Axes>"
      ]
     },
     "metadata": {},
     "output_type": "display_data"
    }
   ],
   "source": [
    "\n",
    "# Counting positive, negative, and neutral words\n",
    "positive_count = sum(1 for word, score in lexicon.items() if word in word_scores and score > 0)\n",
    "negative_count = sum(1 for word, score in lexicon.items() if word in word_scores and score < 0)\n",
    "neutral_count = sum(1 for word, score in lexicon.items() if word in word_scores and score == 0)\n",
    "\n",
    "# Creating a bar chart\n",
    "categories = ['Positive', 'Negative', 'Neutral']\n",
    "counts = [positive_count, negative_count, neutral_count]\n",
    "\n",
    "plt.figure(figsize=(6, 4))\n",
    "plt.bar(categories, counts, color=['green', 'red', 'gray'])\n",
    "plt.xlabel('Sentiment Category')\n",
    "plt.ylabel('Word Count')\n",
    "plt.title('Sentiment Distribution in Text')\n",
    "plt.show()\n"
   ]
  },
  {
   "cell_type": "code",
   "execution_count": 7,
   "metadata": {},
   "outputs": [
    {
     "name": "stdout",
     "output_type": "stream",
     "text": [
      "paz:1\n",
      "deseo:1\n",
      "amor:1\n",
      "pueblo:0\n",
      "niña:1\n",
      "criaturas:0\n",
      "nerviosa:-1\n",
      "hada:0\n",
      "mágico:1\n",
      "perderse:-1\n",
      "bosque:0\n",
      "Sentiment Score: 3\n"
     ]
    }
   ],
   "source": [
    "#example text\n",
    "with open('Sofia.txt', 'r', encoding='utf-8') as f:\n",
    "    text2 = f.read()\n",
    "\n",
    "#calcuating sentiment score\n",
    "sentiment_score, word_scores = calculate_sentiment(text2)\n",
    "print(f\"Sentiment Score: {sentiment_score}\")\n",
    "\n"
   ]
  },
  {
   "cell_type": "markdown",
   "metadata": {},
   "source": [
    "## Sentiment Word Counts "
   ]
  },
  {
   "cell_type": "code",
   "execution_count": 8,
   "metadata": {},
   "outputs": [
    {
     "data": {
      "image/png": "[encoded data removed]",
      "text/plain": [
       "<Figure size 600x400 with 1 Axes>"
      ]
     },
     "metadata": {},
     "output_type": "display_data"
    }
   ],
   "source": [
    " # Counting positive, negative, and neutral words\n",
    "positive_count = sum(1 for word, score in lexicon.items() if word in word_scores and score > 0)\n",
    "negative_count = sum(1 for word, score in lexicon.items() if word in word_scores and score < 0)\n",
    "neutral_count = sum(1 for word, score in lexicon.items() if word in word_scores and score == 0)\n",
    "\n",
    "# Creating a bar chart\n",
    "categories = ['Positive', 'Negative', 'Neutral']\n",
    "counts = [positive_count, negative_count, neutral_count]\n",
    "\n",
    "plt.figure(figsize=(6, 4))\n",
    "plt.bar(categories, counts, color=['green', 'red', 'black'])\n",
    "plt.xlabel('Sentiment Category')\n",
    "plt.ylabel('Word Count')\n",
    "plt.title('Sentiment Distribution in Text')\n",
    "plt.show()\n"
   ]
  },
  {
   "cell_type": "markdown",
   "metadata": {},
   "source": [
    "## NLTK"
   ]
  },
  {
   "cell_type": "code",
   "execution_count": null,
   "metadata": {},
   "outputs": [],
   "source": []
  },
  {
   "cell_type": "markdown",
   "metadata": {},
   "source": []
  }
 ],
 "metadata": {
  "kernelspec": {
   "display_name": ".senti",
   "language": "python",
   "name": "python3"
  },
  "language_info": {
   "codemirror_mode": {
    "name": "ipython",
    "version": 3
   },
   "file_extension": ".py",
   "mimetype": "text/x-python",
   "name": "python",
   "nbconvert_exporter": "python",
   "pygments_lexer": "ipython3",
   "version": "3.11.11"
  }
 },
 "nbformat": 4,
 "nbformat_minor": 2
}
